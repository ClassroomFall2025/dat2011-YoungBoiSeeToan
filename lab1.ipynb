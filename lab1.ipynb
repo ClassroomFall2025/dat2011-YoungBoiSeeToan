{
 "cells": [
  {
   "cell_type": "markdown",
   "id": "fdeff819",
   "metadata": {},
   "source": [
    "# Sinh Viên thực hiện Lab 1 ở Đây"
   ]
  },
  {
   "cell_type": "markdown",
   "id": "acc5d7dc",
   "metadata": {},
   "source": [
    "## Lab 1 - Bài 1"
   ]
  },
  {
   "cell_type": "code",
   "execution_count": 2,
   "id": "001e0507",
   "metadata": {},
   "outputs": [
    {
     "name": "stdout",
     "output_type": "stream",
     "text": [
      "YoungBoiSeeToan\n",
      "Xin chào!\n",
      "Tôi tên là Nguyễn Sỹ Toàn\n",
      "Tôi đến từ Thành phố Hồ Chí Minh\n"
     ]
    }
   ],
   "source": [
    "# Code lab 1 bài 1 ở đây\n",
    "print(\"YoungBoiSeeToan\")\n",
    "print(\"Xin chào!\")\n",
    "print(\"Tôi tên là Nguyễn Sỹ Toàn\")\n",
    "print(\"Tôi đến từ Thành phố Hồ Chí Minh\")"
   ]
  },
  {
   "cell_type": "markdown",
   "id": "c0835310",
   "metadata": {},
   "source": [
    "## Lab 1 - Bài 2"
   ]
  },
  {
   "cell_type": "code",
   "execution_count": 2,
   "id": "fa9cb39f",
   "metadata": {},
   "outputs": [
    {
     "name": "stdout",
     "output_type": "stream",
     "text": [
      "chu vi = 80 dientich = 300\n"
     ]
    }
   ],
   "source": [
    "# Code lab 1  bài 2 ở đây\n",
    "canh1=int(input(\"Nhập cạnh 1:\"))\n",
    "canh2=int(input(\"Nhập cạnh 2:\"))\n",
    "chuvi=(canh1+canh2)*2\n",
    "dientich=canh1*canh2\n",
    "print(\"chu vi =\",chuvi,\"dientich =\",dientich)"
   ]
  },
  {
   "cell_type": "markdown",
   "id": "0f2483fe",
   "metadata": {},
   "source": [
    "## Lab 1 - Bài 3"
   ]
  },
  {
   "cell_type": "code",
   "execution_count": 12,
   "id": "7034990b",
   "metadata": {},
   "outputs": [
    {
     "name": "stdout",
     "output_type": "stream",
     "text": [
      "\"...\n",
      "Sống không giận,không hờn không oán trách\n",
      "Sống mỉm cười, với thử thách chông gai\n",
      "Sống vươn lên, theo kịp ánh ban mai\n",
      "Sống chan hòa, với những người chung sống.\n",
      " \n",
      "Sống là động, nhưng lòng luôn bất động\n",
      "Sống là thương, nhưng lòng chẳng vấn vương\n",
      "Sống yên vui, danh lợi mãi coi thường\n",
      "Sống bất biến, giữa dòng đời vạn biến.\n",
      "...\"\n"
     ]
    }
   ],
   "source": [
    "# Code lab 1  bài 3 ở đây\n",
    "print('\"...')\n",
    "tusong =\"Sống\"\n",
    "print(f\"{tusong} không giận,không hờn không oán trách\")\n",
    "print(f\"{tusong} mỉm cười, với thử thách chông gai\")\n",
    "print(f\"{tusong} vươn lên, theo kịp ánh ban mai\")\n",
    "print(f\"{tusong} chan hòa, với những người chung sống.\")\n",
    "print(\" \")\n",
    "print(f\"{tusong} là động, nhưng lòng luôn bất động\")\n",
    "print(f\"{tusong} là thương, nhưng lòng chẳng vấn vương\")\n",
    "print(f\"{tusong} yên vui, danh lợi mãi coi thường\")\n",
    "print(f\"{tusong} bất biến, giữa dòng đời vạn biến.\")\n",
    "print('...\"')\n",
    "\n",
    "\n",
    "\n"
   ]
  },
  {
   "cell_type": "markdown",
   "id": "d36ea3d3",
   "metadata": {},
   "source": [
    "## Lab 1 - Bài 4"
   ]
  },
  {
   "cell_type": "code",
   "execution_count": 2,
   "id": "4c707ec1",
   "metadata": {},
   "outputs": [
    {
     "name": "stdout",
     "output_type": "stream",
     "text": [
      "ax^2 + bx + c = 0\n",
      "Phuong trinh vo nghiem\n"
     ]
    }
   ],
   "source": [
    "# code lab 1 bài 4 ở đây\n",
    "import math\n",
    "print(\"ax^2 + bx + c = 0\")\n",
    "a=int(input(\"Nhap a: \"))\n",
    "b=int(input(\"Nhap b: \"))\n",
    "c=int(input(\"Nhap c: \"))\n",
    "denta=b*b-4*a*c\n",
    "if denta<0:\n",
    "    print(\"Phuong trinh vo nghiem\")\n",
    "elif denta==0:\n",
    "    x=-b/(2*a)\n",
    "    print(f\"Phuong trinh co nghiem kep: x1=x2={x}\")\n",
    "else:\n",
    "    x1=(-b+math.sqrt(denta))/(2*a)\n",
    "    x2=(-b-math.sqrt(denta))/(2*a)\n",
    "    print(f\"Phuong trinh co 2 nghiem phan biet: x1={x1}, x2={x2}\")"
   ]
  },
  {
   "cell_type": "markdown",
   "id": "e2b41d4a",
   "metadata": {},
   "source": [
    "## Lab 1 - Bài 5: bài tập làm thêm"
   ]
  },
  {
   "cell_type": "code",
   "execution_count": null,
   "id": "0e0172f7",
   "metadata": {},
   "outputs": [],
   "source": [
    "# code lab 1  bài làm thêm ở đây "
   ]
  }
 ],
 "metadata": {
  "kernelspec": {
   "display_name": "Python 3",
   "language": "python",
   "name": "python3"
  },
  "language_info": {
   "codemirror_mode": {
    "name": "ipython",
    "version": 3
   },
   "file_extension": ".py",
   "mimetype": "text/x-python",
   "name": "python",
   "nbconvert_exporter": "python",
   "pygments_lexer": "ipython3",
   "version": "3.13.7"
  }
 },
 "nbformat": 4,
 "nbformat_minor": 5
}
