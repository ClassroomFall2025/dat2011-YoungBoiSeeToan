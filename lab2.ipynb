{
 "cells": [
  {
   "cell_type": "markdown",
   "id": "fdeff819",
   "metadata": {},
   "source": [
    "# Sinh Viên thực hiện Lab 2 ở Đây"
   ]
  },
  {
   "cell_type": "markdown",
   "id": "acc5d7dc",
   "metadata": {},
   "source": [
    "## Lab 2 - Bài 1"
   ]
  },
  {
   "cell_type": "code",
   "execution_count": 1,
   "id": "001e0507",
   "metadata": {},
   "outputs": [
    {
     "name": "stdout",
     "output_type": "stream",
     "text": [
      "Đoạn chuỗi trên có từ \"con người\"\n",
      "Đã lấy từ con người ra biến -> con người \n",
      "Đã chuyển thành từ hoa ->  CON NGƯỜI \n"
     ]
    }
   ],
   "source": [
    "# Code lab 2 bài 1 ở đây\n",
    "text=\"\"\"Kiếp con người mong manh như là gió  \n",
    "Sống trên đời có được mấy lần vui  \n",
    "Sao phải đau mà không thể mỉm cười  \n",
    "Gắng buông nỗi ngậm ngùi nơi quá khứ  \n",
    "\n",
    "Nếu có thể sao ta không làm thử  \n",
    "Để tâm hồn khắc hai chữ bình an  \n",
    "Cho đôi chân bước thanh thản nhẹ nhàng  \n",
    "Dù hướng đời có muôn ngàn đá sỏi\"\"\"\n",
    "if (\"con người\"in text):\n",
    "    print('Đoạn chuỗi trên có từ \"con người\"')\n",
    "else:\n",
    "    print('Đoạn chuỗi trên không có từ \"con người\"')\n",
    "text_find=text[5:15]\n",
    "print(\"Đã lấy từ con người ra biến ->\",text_find)\n",
    "print(\"Đã chuyển thành từ hoa -> \",text_find.upper())"
   ]
  },
  {
   "cell_type": "code",
   "execution_count": null,
   "id": "fedfb09a",
   "metadata": {},
   "outputs": [],
   "source": []
  },
  {
   "cell_type": "markdown",
   "id": "c0835310",
   "metadata": {},
   "source": [
    "## Lab 2 - Bài 2"
   ]
  },
  {
   "cell_type": "code",
   "execution_count": 8,
   "id": "fa9cb39f",
   "metadata": {},
   "outputs": [
    {
     "name": "stdout",
     "output_type": "stream",
     "text": [
      "Đã làm thay bình an và hạnh phúc\n",
      "Đã thêm ... vào đầu và cuối\n",
      "Bài thơ đã sửa:\n",
      "\n",
      "...Kiếp con người mong manh như là gió  \n",
      "Sống trên đời có được mấy lần vui  \n",
      "Sao phải đau mà không thể mỉm cười  \n",
      "Gắng buông nỗi ngậm ngùi nơi quá khứ  \n",
      "\n",
      "Nếu có thể sao ta không làm thử  \n",
      "Để tâm hồn khắc hai chữ hạnh phúc  \n",
      "Cho đôi chân bước thanh thản nhẹ nhàng  \n",
      "Dù hướng đời có muôn ngàn đá sỏi...\n"
     ]
    }
   ],
   "source": [
    "text=\"\"\"Kiếp con người mong manh như là gió  \n",
    "Sống trên đời có được mấy lần vui  \n",
    "Sao phải đau mà không thể mỉm cười  \n",
    "Gắng buông nỗi ngậm ngùi nơi quá khứ  \n",
    "\n",
    "Nếu có thể sao ta không làm thử  \n",
    "Để tâm hồn khắc hai chữ bình an  \n",
    "Cho đôi chân bước thanh thản nhẹ nhàng  \n",
    "Dù hướng đời có muôn ngàn đá sỏi\"\"\"\n",
    "print(f'Đã làm thay bình an và hạnh phúc\\nĐã thêm ... vào đầu và cuối\\nBài thơ đã sửa:\\n\\n...{text.replace(\"bình an\",\"hạnh phúc\")}...')"
   ]
  },
  {
   "cell_type": "markdown",
   "id": "0f2483fe",
   "metadata": {},
   "source": [
    "## Lab 2 - Bài 3"
   ]
  },
  {
   "cell_type": "code",
   "execution_count": 3,
   "id": "7034990b",
   "metadata": {},
   "outputs": [
    {
     "name": "stdout",
     "output_type": "stream",
     "text": [
      "ax + b = 0\n",
      "Phương trình có nghiệm x = -2.0\n"
     ]
    }
   ],
   "source": [
    "# Code lab 2  bài 3 ở đây\n",
    "print(\"ax + b = 0\")\n",
    "a=int(input(\"Nhap a: \"))\n",
    "b=int(input(\"Nhap b: \"))\n",
    "if a==0:\n",
    "    if b==0:\n",
    "        print(\"Phương trình vô số nghiệm\")\n",
    "    else:\n",
    "        print(\"Phương trình vô nghiệm\")\n",
    "else:\n",
    "    print(f\"Phương trình có nghiệm x = {-b/a}\")"
   ]
  },
  {
   "cell_type": "markdown",
   "id": "d36ea3d3",
   "metadata": {},
   "source": [
    "## Lab 2 - Bài 4"
   ]
  },
  {
   "cell_type": "code",
   "execution_count": 10,
   "id": "4c707ec1",
   "metadata": {},
   "outputs": [
    {
     "name": "stdout",
     "output_type": "stream",
     "text": [
      "ax^2 + bx + c = 0\n",
      "Phương trình vô nghiệm\n"
     ]
    }
   ],
   "source": [
    "# code lab 2 bài 4 ở đây\n",
    "import math\n",
    "print(\"ax^2 + bx + c = 0\")\n",
    "a=int(input(\"Nhap a: \"))\n",
    "b=int(input(\"Nhap b: \"))\n",
    "c=int(input(\"Nhap c: \"))\n",
    "if a==0:\n",
    "    print(f\"Phường trình nghiệm {-b/a}\")\n",
    "else:\n",
    "    delta=b*b-4*a*c\n",
    "    if delta<0:\n",
    "        print(\"Phương trình vô nghiệm\")\n",
    "    elif delta==0:\n",
    "        print(f\"Phương trình có nghiệm kép x={-b/(2*a)}\")\n",
    "    else:\n",
    "        print(f\"phương trình 2 nghiệm phân biệt \\nx1 = {(-b+math.sqrt(delta))/(2*a)} \\nx2 = {(-b-math.sqrt(delta))/(2*a)}\")"
   ]
  },
  {
   "cell_type": "markdown",
   "id": "e2b41d4a",
   "metadata": {},
   "source": [
    "## Lab 2 - Bài 5: bài tập làm thêm"
   ]
  },
  {
   "cell_type": "code",
   "execution_count": null,
   "id": "0e0172f7",
   "metadata": {},
   "outputs": [],
   "source": [
    "# code lab 2  bài làm thêm ở đây "
   ]
  }
 ],
 "metadata": {
  "kernelspec": {
   "display_name": "Python 3",
   "language": "python",
   "name": "python3"
  },
  "language_info": {
   "codemirror_mode": {
    "name": "ipython",
    "version": 3
   },
   "file_extension": ".py",
   "mimetype": "text/x-python",
   "name": "python",
   "nbconvert_exporter": "python",
   "pygments_lexer": "ipython3",
   "version": "3.13.7"
  }
 },
 "nbformat": 4,
 "nbformat_minor": 5
}
